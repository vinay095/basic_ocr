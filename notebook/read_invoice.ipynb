{
 "cells": [
  {
   "cell_type": "code",
   "execution_count": 1,
   "id": "2d052805-7527-427d-b3a6-95eae3c83dab",
   "metadata": {},
   "outputs": [
    {
     "name": "stdout",
     "output_type": "stream",
     "text": [
      "Requirement already satisfied: requests in c:\\users\\kakashi\\appdata\\local\\programs\\python\\python311\\lib\\site-packages (2.32.3)Note: you may need to restart the kernel to use updated packages.\n",
      "\n",
      "Requirement already satisfied: charset-normalizer<4,>=2 in c:\\users\\kakashi\\appdata\\local\\programs\\python\\python311\\lib\\site-packages (from requests) (3.4.1)\n",
      "Requirement already satisfied: idna<4,>=2.5 in c:\\users\\kakashi\\appdata\\local\\programs\\python\\python311\\lib\\site-packages (from requests) (3.7)\n",
      "Requirement already satisfied: urllib3<3,>=1.21.1 in c:\\users\\kakashi\\appdata\\local\\programs\\python\\python311\\lib\\site-packages (from requests) (2.3.0)\n",
      "Requirement already satisfied: certifi>=2017.4.17 in c:\\users\\kakashi\\appdata\\local\\programs\\python\\python311\\lib\\site-packages (from requests) (2025.1.31)\n"
     ]
    }
   ],
   "source": [
    "%pip install requests"
   ]
  },
  {
   "cell_type": "code",
   "execution_count": 2,
   "id": "5680f468-d242-4d82-8606-16732691a0de",
   "metadata": {},
   "outputs": [],
   "source": [
    "import json\n",
    "import requests\n",
    "import pickle\n",
    "\n",
    "url = \"https://ocr.asprise.com/api/v1/receipt\"\n",
    "image = \"invoice-1.png\""
   ]
  },
  {
   "cell_type": "code",
   "execution_count": 4,
   "id": "ff8f6c5d-49d6-4450-a8da-9bd48e0dfff5",
   "metadata": {},
   "outputs": [
    {
     "name": "stdout",
     "output_type": "stream",
     "text": [
      "<Response [200]>\n"
     ]
    }
   ],
   "source": [
    "res = requests.post(url,\n",
    "    data = {\n",
    "        'api_key': 'TEST',\n",
    "        'recognizer': 'auto',\n",
    "        'ref_no': 'oct_python_123'\n",
    "    },\n",
    "    files = {\n",
    "        'file': open(image, 'rb')\n",
    "    })\n",
    "print(res)"
   ]
  },
  {
   "cell_type": "code",
   "execution_count": 5,
   "id": "baf58188-2d29-4091-a141-6cac6f7f95d0",
   "metadata": {},
   "outputs": [],
   "source": [
    "with open(\"response.json\", \"w\") as f:\n",
    "    json.dump(json.loads(res.text),f)"
   ]
  },
  {
   "cell_type": "code",
   "execution_count": 7,
   "id": "28ea39de-f31e-45e4-bead-2efe9db2687f",
   "metadata": {},
   "outputs": [
    {
     "name": "stdout",
     "output_type": "stream",
     "text": [
      "Your purchase at Walmart\n",
      "BELL PEPPER 000000004065 - $6.34\n",
      "CILANTRO000000004889 - $0.58\n",
      "CHARD000000004587 - $1.47\n",
      "RED ONION000000004082 - $1.67\n",
      "BROC CROWNS 000000003082 - $1.53\n",
      "ORG CELERY007357480002 - $1.76\n",
      "BULK PEARS000000004409 - $1.28\n",
      "BELL PEPPER 000000004065 - $6.34\n",
      "CILANTRO000000004889 - $0.58\n",
      "CHARD000000004587 - $1.47\n",
      "RED ONION000000004082 - $1.67\n",
      "BROC CROWNS 000000003082 - $1.53\n",
      "ORG CELERY007357480002 - $1.76\n",
      "BULK PEARS000000004409 - $1.28\n",
      "BELL PEPPER 000000004065 - $6.34\n",
      "CILANTRO000000004889 - $0.58\n",
      "CHARD000000004587 - $1.47\n",
      "RED ONION000000004082 - $1.67\n",
      "BROC CROWNS 000000003082 - $1.53\n",
      "ORG CELERY007357480002 - $1.76\n",
      "BULK PEARS000000004409 - $1.28\n",
      "BELL PEPPER 000000004065 - $6.34\n",
      "CILANTRO000000004889 - $0.58\n",
      "CHARD000000004587 - $1.47\n",
      "RED ONION000000004082 - $1.67\n",
      "BROC CROWNS 000000003082 - $1.53\n",
      "ORG CELERY007357480002 - $1.76\n",
      "BULK PEARS000000004409 - $1.28\n"
     ]
    }
   ],
   "source": [
    "with open(\"response.json\", \"r\") as f:\n",
    "    data = json.load(f)\n",
    "\n",
    "# print(data['receipts'][0].keys())\n",
    "items = data['receipts'][0]['items']\n",
    "print(f\"Your purchase at {data['receipts'][0]['merchant_name']}\")\n",
    "\n",
    "for item in items:\n",
    "    print(f\"{item['description']} - ${item['amount']}\")"
   ]
  },
  {
   "cell_type": "code",
   "execution_count": 9,
   "id": "66910787-8be6-46a3-ba83-c00ca75b1d4e",
   "metadata": {},
   "outputs": [
    {
     "name": "stdout",
     "output_type": "stream",
     "text": [
      "------------------------------\n",
      "Subtotal: $113.17\n",
      "Tax: $7.5\n",
      "------------------------------\n",
      "Total: $120.67\n"
     ]
    }
   ],
   "source": [
    "print(\"-\" * 30)\n",
    "sub = data['receipts'][0]['subtotal']\n",
    "tax = data['receipts'][0]['tax']\n",
    "total = sub + tax\n",
    "print(f\"Subtotal: ${sub}\")\n",
    "print(f\"Tax: ${tax}\")\n",
    "print(\"-\" * 30)\n",
    "\n",
    "print(f\"Total: ${total}\")"
   ]
  },
  {
   "cell_type": "code",
   "execution_count": null,
   "id": "c342896b-e754-4e60-94de-25d58b08d437",
   "metadata": {},
   "outputs": [],
   "source": []
  },
  {
   "cell_type": "code",
   "execution_count": null,
   "id": "adca77c6-2c5a-49d2-8c85-8b1ca4990b5f",
   "metadata": {},
   "outputs": [],
   "source": []
  }
 ],
 "metadata": {
  "kernelspec": {
   "display_name": "Python 3.11",
   "language": "python",
   "name": "python311"
  },
  "language_info": {
   "codemirror_mode": {
    "name": "ipython",
    "version": 3
   },
   "file_extension": ".py",
   "mimetype": "text/x-python",
   "name": "python",
   "nbconvert_exporter": "python",
   "pygments_lexer": "ipython3",
   "version": "3.11.1"
  }
 },
 "nbformat": 4,
 "nbformat_minor": 5
}
